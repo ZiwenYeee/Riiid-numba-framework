{
 "cells": [
  {
   "cell_type": "code",
   "execution_count": 1,
   "metadata": {
    "_cell_guid": "b1076dfc-b9ad-4769-8c92-a6c4dae69d19",
    "_uuid": "8f2839f25d086af736a60e9eeb907d3b93b6e0e5",
    "execution": {
     "iopub.execute_input": "2020-12-27T10:37:06.005633Z",
     "iopub.status.busy": "2020-12-27T10:37:06.004917Z",
     "iopub.status.idle": "2020-12-27T10:42:31.079848Z",
     "shell.execute_reply": "2020-12-27T10:42:31.080536Z"
    },
    "papermill": {
     "duration": 325.09382,
     "end_time": "2020-12-27T10:42:31.080770",
     "exception": false,
     "start_time": "2020-12-27T10:37:05.986950",
     "status": "completed"
    },
    "tags": []
   },
   "outputs": [
    {
     "name": "stdout",
     "output_type": "stream",
     "text": [
      "/kaggle/working\n",
      "/kaggle/input/feat5-group/tag_w2v_features.csv\n",
      "/kaggle/input/feat5-group/content_id_real_time.csv\n",
      "/kaggle/input/feat5-group/model_fusion_800_1000wdata.pkl\n",
      "/kaggle/input/feat5-group/df_w2v.csv\n",
      "/kaggle/input/feat5-group/model_new_pipeline_800_1000wdata.pkl\n",
      "/kaggle/input/feat5-group/tomoyo_cbt_model_0.80247.txt\n",
      "/kaggle/input/feat5-group/model_new_feat_1000wdata.pkl\n",
      "/kaggle/input/feat5-group/model_new_pipeline_dropLong_3000wdata.pkl\n",
      "/kaggle/input/feat5-group/content_id_task_set_distance.csv\n",
      "/kaggle/input/feat5-group/feat5_gp_v3.npy\n",
      "/kaggle/input/feat5-group/model_lgb_803.pkl\n",
      "/kaggle/input/feat5-group/df_svd.csv\n",
      "/kaggle/input/feat5-group/model_new_pipeline_798_1000wdata.pkl\n",
      "/kaggle/input/feat5-group/test_script/test_script/test_feat5_group_feature.py\n",
      "/kaggle/input/feat5-group/test_script/test_script/test_content_encoding.py\n",
      "/kaggle/input/feat5-group/test_script/test_script/test_global_group_feature.py\n",
      "/kaggle/input/feat5-group/test_script/test_script/test_part_feature.py\n",
      "/kaggle/input/feat5-group/test_script/test_script/test_state_feature.py\n",
      "/kaggle/input/feat5-group/test_script/test_script/test_rolling_feature.py\n",
      "/kaggle/input/feat5-group/test_script/test_script/test_item_feature.py\n",
      "/kaggle/input/feat5-group/test_script/test_script/test_bundle_feature.py\n",
      "/kaggle/input/feat5-group/test_script/test_script/test_user_feature.py\n",
      "/kaggle/input/riiid-features/whole_group_data_v4.npy\n",
      "/kaggle/input/riiid-features/catboost_8049.bin\n",
      "/kaggle/input/riiid-features/catboost_80588.bin\n",
      "/kaggle/input/riiid-features/model_lgb_8051.pkl\n",
      "/kaggle/input/riiid-features/whole_group_data_v4_float32.npy\n",
      "/kaggle/input/riiid-test-answer-prediction/example_sample_submission.csv\n",
      "/kaggle/input/riiid-test-answer-prediction/example_test.csv\n",
      "/kaggle/input/riiid-test-answer-prediction/questions.csv\n",
      "/kaggle/input/riiid-test-answer-prediction/train.csv\n",
      "/kaggle/input/riiid-test-answer-prediction/lectures.csv\n",
      "/kaggle/input/riiid-test-answer-prediction/riiideducation/competition.cpython-37m-x86_64-linux-gnu.so\n",
      "/kaggle/input/riiid-test-answer-prediction/riiideducation/__init__.py\n",
      "CPU times: user 4min 15s, sys: 11.7 s, total: 4min 27s\n",
      "Wall time: 5min 25s\n"
     ]
    }
   ],
   "source": [
    "%%time\n",
    "# This Python 3 environment comes with many helpful analytics libraries installed\n",
    "# It is defined by the kaggle/python Docker image: https://github.com/kaggle/docker-python\n",
    "# For example, here's several helpful packages to load\n",
    "\n",
    "import numpy as np # linear algebra\n",
    "import pandas as pd # data processing, CSV file I/O (e.g. pd.read_csv)\n",
    "import os\n",
    "import warnings\n",
    "import sys\n",
    "import gc\n",
    "warnings.filterwarnings('ignore')\n",
    "print(os.getcwd())\n",
    "# ../input/feat5-group/test_script_201227\n",
    "code_path = '/kaggle/input/feat5-group/test_script/test_script/'\n",
    "sys.path.append(code_path)\n",
    "\n",
    "# Input data files are available in the read-only \"../input/\" directory\n",
    "# For example, running this (by clicking run or pressing Shift+Enter) will list all files under the input directory\n",
    "\n",
    "import os\n",
    "for dirname, _, filenames in os.walk('/kaggle/input'):\n",
    "    for filename in filenames:\n",
    "        print(os.path.join(dirname, filename))\n",
    "\n",
    "\n",
    "train = pd.read_csv('/kaggle/input/riiid-test-answer-prediction/train.csv',\n",
    "                   dtype={'row_id': 'int32',\n",
    "                          'timestamp': 'int64',\n",
    "                          'user_id': 'int32',\n",
    "                          'content_id': 'int16',\n",
    "                          'content_type_id': 'int8',\n",
    "                          'task_container_id': 'int16',\n",
    "                          'user_answer': 'int8',\n",
    "                          'answered_correctly':'int8',\n",
    "                          'prior_question_elapsed_time': 'float32',\n",
    "                          'prior_question_had_explanation': 'boolean'}\n",
    "                   )\n",
    "train = train.loc[train.content_type_id == 0].reset_index(drop=True)\n",
    "\n",
    "# You can write up to 20GB to the current directory (/kaggle/working/) that gets preserved as output when you create a version using \"Save & Run All\" \n",
    "# You can also write temporary files to /kaggle/temp/, but they won't be saved outside of the current session"
   ]
  },
  {
   "cell_type": "code",
   "execution_count": 2,
   "metadata": {
    "execution": {
     "iopub.execute_input": "2020-12-27T10:42:31.109314Z",
     "iopub.status.busy": "2020-12-27T10:42:31.105343Z",
     "iopub.status.idle": "2020-12-27T10:46:48.366114Z",
     "shell.execute_reply": "2020-12-27T10:46:48.367559Z"
    },
    "papermill": {
     "duration": 257.279247,
     "end_time": "2020-12-27T10:46:48.368233",
     "exception": false,
     "start_time": "2020-12-27T10:42:31.088986",
     "status": "completed"
    },
    "tags": []
   },
   "outputs": [
    {
     "name": "stdout",
     "output_type": "stream",
     "text": [
      "initial_dict function took 8.470 s\n",
      "initial_attempt function took 85.160 s\n",
      "answer_dict_init_ function took 7.290 s\n",
      "content_encoder1 function took 39.340 s\n",
      "content_encoder2 function took 15.440 s\n",
      "read_enc_data function took 0.290 s\n",
      "content_emb_dict_init_ function took 62.360 s\n",
      "bundle_dict_init function took 92.580 s\n",
      "CPU times: user 3min 44s, sys: 31 s, total: 4min 15s\n",
      "Wall time: 4min 17s\n"
     ]
    }
   ],
   "source": [
    "%%time\n",
    "# sys.path.append(code_path + 'test_script')\n",
    "from test_user_feature import initial_dict\n",
    "from test_state_feature import initial_attempt, dict_trans\n",
    "from test_content_encoding import content_emb_dict_init_\n",
    "from test_part_feature import part_dict_init\n",
    "from test_bundle_feature import bundle_dict_init\n",
    "\n",
    "user_dict, item_dict = initial_dict(train)\n",
    "state_dict = initial_attempt(train)\n",
    "state_dict = dict_trans(state_dict)\n",
    "path1 = '/kaggle/input/feat5-group/'\n",
    "path2 = '/kaggle/input/riiid-test-answer-prediction/questions.csv'\n",
    "content_emb_dict, content_emb_cols = content_emb_dict_init_(train, \n",
    "                                                            path = path1, question_path = path2)\n",
    "\n",
    "questions = pd.read_csv('/kaggle/input/riiid-test-answer-prediction/questions.csv')\n",
    "map_part_dict = questions.set_index(['question_id'])['part'].to_dict()\n",
    "train['part'] = train['content_id'].map(map_part_dict)\n",
    "map_bundle_dict = questions.set_index(['question_id'])['bundle_id'].to_dict()\n",
    "train['bundle'] = train['content_id'].map(map_bundle_dict)\n",
    "bundle_dict = bundle_dict_init(train)\n",
    "# part_dict = part_dict_init(train)\n",
    "\n",
    "bundle_name = ['bundle_sum', 'bundle_count', 'bundle_mean']\n",
    "# part_name = ['part_sum', 'part_count', 'part_mean']\n",
    "\n",
    "prior_question_elapsed_time_mean = train.prior_question_elapsed_time.dropna().values.mean()"
   ]
  },
  {
   "cell_type": "code",
   "execution_count": 3,
   "metadata": {
    "execution": {
     "iopub.execute_input": "2020-12-27T10:46:48.401932Z",
     "iopub.status.busy": "2020-12-27T10:46:48.401091Z",
     "iopub.status.idle": "2020-12-27T10:46:56.112803Z",
     "shell.execute_reply": "2020-12-27T10:46:56.112221Z"
    },
    "papermill": {
     "duration": 7.733226,
     "end_time": "2020-12-27T10:46:56.112945",
     "exception": false,
     "start_time": "2020-12-27T10:46:48.379719",
     "status": "completed"
    },
    "tags": []
   },
   "outputs": [
    {
     "data": {
      "text/plain": [
       "28"
      ]
     },
     "execution_count": 3,
     "metadata": {},
     "output_type": "execute_result"
    }
   ],
   "source": [
    "def get_answer_dict(train):\n",
    "    item_answer = train.groupby(['content_id', 'user_answer'])['user_answer'].agg('count').unstack()\n",
    "    item_answer.fillna(0, inplace = True)\n",
    "    item_answer = item_answer.to_numpy()\n",
    "    total_sum = np.sum(item_answer, axis = 1)\n",
    "    for i in range(4):\n",
    "        item_answer[:, i] = item_answer[:, i]/total_sum\n",
    "    return item_answer\n",
    "\n",
    "item_answer_dict = get_answer_dict(train)\n",
    "del train; gc.collect()"
   ]
  },
  {
   "cell_type": "code",
   "execution_count": 4,
   "metadata": {
    "execution": {
     "iopub.execute_input": "2020-12-27T10:46:56.141938Z",
     "iopub.status.busy": "2020-12-27T10:46:56.141260Z",
     "iopub.status.idle": "2020-12-27T10:47:40.234198Z",
     "shell.execute_reply": "2020-12-27T10:47:40.232745Z"
    },
    "papermill": {
     "duration": 44.110172,
     "end_time": "2020-12-27T10:47:40.234427",
     "exception": false,
     "start_time": "2020-12-27T10:46:56.124255",
     "status": "completed"
    },
    "tags": []
   },
   "outputs": [],
   "source": [
    "import numpy as np\n",
    "rolling_gp = np.load('/kaggle/input/feat5-group/feat5_gp_v3.npy',allow_pickle=True).item()\n",
    "whole_group_roll = np.load('../input/riiid-features/whole_group_data_v4_float32.npy', allow_pickle = True).item()\n",
    "\n",
    "# whole_group_roll = roll_init(whole_group_roll)"
   ]
  },
  {
   "cell_type": "code",
   "execution_count": 5,
   "metadata": {
    "execution": {
     "iopub.execute_input": "2020-12-27T10:47:40.264353Z",
     "iopub.status.busy": "2020-12-27T10:47:40.263524Z",
     "iopub.status.idle": "2020-12-27T10:47:40.313925Z",
     "shell.execute_reply": "2020-12-27T10:47:40.314547Z"
    },
    "papermill": {
     "duration": 0.06721,
     "end_time": "2020-12-27T10:47:40.314784",
     "exception": false,
     "start_time": "2020-12-27T10:47:40.247574",
     "status": "completed"
    },
    "tags": []
   },
   "outputs": [],
   "source": [
    "from test_user_feature import test_user\n",
    "from test_state_feature import state_feature\n",
    "from test_item_feature import test_item\n",
    "from test_user_feature import update_user_dict\n",
    "from test_content_encoding import initial_embedding_feature\n",
    "from test_feat5_group_feature import feat5_group, test_feats5_wrap\n",
    "from test_rolling_feature import test_rolling_feature_wrapper\n",
    "from test_part_feature import test_part_feature\n",
    "from test_bundle_feature import test_bundle_feature\n",
    "from test_global_group_feature import rolling_feat_group,test_last_group_feature, get_last_name\n",
    "\n",
    "######\n",
    "from test_part_feature import update_part_dict\n",
    "from test_bundle_feature import update_bundle_dict\n",
    "from test_feat5_group_feature import rolling_df_update"
   ]
  },
  {
   "cell_type": "code",
   "execution_count": 6,
   "metadata": {
    "execution": {
     "iopub.execute_input": "2020-12-27T10:47:40.343577Z",
     "iopub.status.busy": "2020-12-27T10:47:40.342664Z",
     "iopub.status.idle": "2020-12-27T10:47:40.372477Z",
     "shell.execute_reply": "2020-12-27T10:47:40.373414Z"
    },
    "papermill": {
     "duration": 0.046438,
     "end_time": "2020-12-27T10:47:40.373620",
     "exception": false,
     "start_time": "2020-12-27T10:47:40.327182",
     "status": "completed"
    },
    "tags": []
   },
   "outputs": [],
   "source": [
    "import riiideducation\n",
    "import pandas as pd\n",
    "\n",
    "# You can only call make_env() once, so don't lose it!\n",
    "env = riiideducation.make_env()\n",
    "# so be careful not to lose it once you start iterating.\n",
    "iter_test = env.iter_test()\n",
    "# (test_org, sample_prediction_df) = next(iter_test)\n"
   ]
  },
  {
   "cell_type": "code",
   "execution_count": 7,
   "metadata": {
    "execution": {
     "iopub.execute_input": "2020-12-27T10:47:40.402156Z",
     "iopub.status.busy": "2020-12-27T10:47:40.401312Z",
     "iopub.status.idle": "2020-12-27T10:47:40.418661Z",
     "shell.execute_reply": "2020-12-27T10:47:40.419464Z"
    },
    "papermill": {
     "duration": 0.033601,
     "end_time": "2020-12-27T10:47:40.419649",
     "exception": false,
     "start_time": "2020-12-27T10:47:40.386048",
     "status": "completed"
    },
    "tags": []
   },
   "outputs": [],
   "source": [
    "features = ['content_id', 'prior_question_elapsed_time', 'prior_question_had_explanation', 'correct_answer', \n",
    "            'user_count', 'user_sum', 'user_mean', 'attempt', 'item_count', \n",
    "            'item_sum', 'item_mean', 'answer_ratio_0', 'answer_ratio_1', 'answer_ratio_2', 'answer_ratio_3', \n",
    "            'bundle_id', 'part', 'le_tag', 'question_correct_user_ablility_mean',\n",
    "            'question_correct_user_ablility_median', 'question_wrong_user_ablility_mean', \n",
    "            'question_wrong_user_ablility_median', 'word2vec_0', 'word2vec_1', 'word2vec_2', 'word2vec_3',\n",
    "            'word2vec_4', 'svd_0', 'svd_1', 'svd_2', 'svd_3', 'svd_4', 'tags_w2v_correct_mean_0', \n",
    "            'tags_w2v_wrong_mean_0', 'tags_w2v_correct_mean_1', 'tags_w2v_wrong_mean_1', \n",
    "            'tags_w2v_correct_mean_2', 'tags_w2v_wrong_mean_2', 'tags_w2v_correct_mean_3', \n",
    "            'tags_w2v_wrong_mean_3', 'tags_w2v_correct_mean_4', 'tags_w2v_wrong_mean_4', \n",
    "            'real_time_wrong_mean', 'real_time_wrong_median', 'real_time_correct_mean',\n",
    "            'real_time_correct_median', 'task_set_distance_wrong_mean', 'task_set_distance_wrong_median',\n",
    "            'task_set_distance_correct_mean', 'task_set_distance_correct_median', \n",
    "            'mean_0_ratio', 'mean_1_ratio', 'mean_2_ratio', 'mean_3_ratio', 'mean_4_ratio', 'mean_5_ratio',\n",
    "            'mean_6_ratio', 'mean_7_ratio', 'mean_8_ratio', 'mean_9_ratio', 'mean_10_ratio', \n",
    "            'user_d1', 'user_d2', 'task_set_distance', 'content_shift1', 'item_mean_shift1', \n",
    "            'item_mean_diff1', 'user_diff_mean', 'user_diff_std', 'user_diff_min', 'user_diff_max',\n",
    "            'task_set_item_mean', 'task_set_item_std', 'task_set_item_min', 'task_set_item_max', \n",
    "            'task_set_distance2', 'task_distance_shift', 'task_set_distance_diff', 'task_distance_diff_shift',\n",
    "            'container_mean_1', 'container_std_1', 'container_mean_5', 'container_std_5', 'container_mean_10', \n",
    "            'container_std_10', 'container_mean_20', 'container_std_20', 'container_mean_30', 'container_std_30', \n",
    "            'container_mean_40', 'container_std_40', 'prior_question_elapsed_time_mean_1', \n",
    "            'prior_question_elapsed_time_mean_5', 'prior_question_elapsed_time_mean_10',\n",
    "            'prior_question_elapsed_time_mean_20', 'prior_question_elapsed_time_mean_30', \n",
    "            'prior_question_elapsed_time_mean_40', 'item_mean_mean_1', 'item_mean_mean_5', 'item_mean_mean_10',\n",
    "            'item_mean_mean_20', 'item_mean_mean_30', 'item_mean_mean_40', 'task_set_distance_mean_1',\n",
    "            'task_set_distance_mean_5', 'task_set_distance_mean_10', 'task_set_distance_mean_20', \n",
    "            'task_set_distance_mean_30', 'task_set_distance_mean_40', 'bundle_sum', 'bundle_count', \n",
    "            'bundle_mean', 'begin_time_diff', 'end_time_diff', 'part_duration_time', 'part_time_diff_mean', \n",
    "            'part_session_mean', 'part_session_sum', 'part_session_count', 'last_part_item_mean', \n",
    "            'last_part_item_median', 'full_group0_item_mean_mean', 'full_group0_item_mean_median', \n",
    "            'full_group0_task_set_distance_mean', 'full_group0_task_set_distance_median', \n",
    "            'full_group0_timestamp_mean', 'full_group0_timestamp_median', 'full_group1_item_mean_mean', \n",
    "            'full_group1_item_mean_median', 'full_group1_task_set_distance_mean',\n",
    "            'full_group1_task_set_distance_median', 'full_group1_timestamp_mean', \n",
    "            'full_group1_timestamp_median', 'part_sum', 'part_count', 'part_mean', 'part_count_global_ratio', \n",
    "            'part_sum_global_ratio', 'part_sum_1', 'part_mean_1', 'part_sum_5', 'part_mean_5', 'part_sum_10', \n",
    "            'part_mean_10', 'cum_answer0_mean_item_mean', 'cum_answer0_median_item_mean',\n",
    "            'cum_answer0_mean_task_set_distance', 'cum_answer0_median_task_set_distance', \n",
    "            'cum_answer1_mean_item_mean', 'cum_answer1_median_item_mean', 'cum_answer1_mean_task_set_distance', \n",
    "            'cum_answer1_median_task_set_distance', 'cum_answer0_time_diff', 'cum_answer1_time_diff', \n",
    "            'global_task_set_shift1', 'global_task_set_shift2', 'global_task_set_shift3', \n",
    "            'global_task_set_shift4', 'global_task_set_shift5', 'cum_answer0_mean_wrong_time_diff',\n",
    "            'cum_answer0_median_wrong_time_diff', 'cum_answer1_mean_right_time_diff',\n",
    "            'cum_answer1_median_right_time_diff', 'last_content_id_time_diff', 'hard_answer0_time', \n",
    "            'hard_answer1_time', 'user_trend_mean', 'user_trend_median', 'user_trend_roll_user_ans_sum',\n",
    "            'user_trend_roll_user_ans_mean', 'user_trend_roll_user_ans_count', 'user_trend_roll_item_ans_sum',\n",
    "            'user_trend_roll_item_ans_mean', 'user_trend_roll_item_ans_count']"
   ]
  },
  {
   "cell_type": "code",
   "execution_count": 8,
   "metadata": {
    "execution": {
     "iopub.execute_input": "2020-12-27T10:47:40.448075Z",
     "iopub.status.busy": "2020-12-27T10:47:40.447183Z",
     "iopub.status.idle": "2020-12-27T10:48:26.892534Z",
     "shell.execute_reply": "2020-12-27T10:48:26.891582Z"
    },
    "papermill": {
     "duration": 46.461129,
     "end_time": "2020-12-27T10:48:26.892721",
     "exception": false,
     "start_time": "2020-12-27T10:47:40.431592",
     "status": "completed"
    },
    "tags": []
   },
   "outputs": [],
   "source": [
    "import catboost as cb\n",
    "model = cb.CatBoostClassifier()\n",
    "\n",
    "model.load_model('../input/riiid-features/catboost_80588.bin')\n",
    "\n",
    "# import pickle\n",
    "# with open('../input/feat5-group/model_new_pipeline_800_1000wdata.pkl', 'rb') as fin:\n",
    "#     model = pickle.load(fin)\n",
    "\n",
    "previous_test_df = None\n",
    "# pbar = tqdm(total=valid.shape[0])\n",
    "questions = pd.read_csv('/kaggle/input/riiid-test-answer-prediction/questions.csv')\n",
    "ans_map_dict = questions.set_index(['question_id'])['correct_answer'].to_dict()\n",
    "roll_keep = ['user_id', 'timestamp', 'content_id', 'answered_correctly',\n",
    "             'prior_question_elapsed_time', 'item_mean', 'task_set_distance', 'part', 'bundle_id', \n",
    "             'user_answer', 'correct_answer']\n",
    "\n",
    "# test_list = []\n",
    "for (current_test, current_prediction_df) in iter_test:\n",
    "    if previous_test_df is not None:\n",
    "        tmp_array = np.array(eval(current_test[\"prior_group_answers_correct\"].iloc[0]))\n",
    "        tmp_array = tmp_array[tmp_array != -1]\n",
    "        tmp_ans = np.array(eval(current_test[\"prior_group_responses\"].iloc[0]))\n",
    "        tmp_ans = tmp_ans[tmp_ans != -1]\n",
    "        \n",
    "        previous_test_df['answered_correctly'] = tmp_array\n",
    "        previous_test_df['user_answer'] = tmp_ans\n",
    "        user_dict = update_user_dict(user_dict, previous_test_df)\n",
    "        \n",
    "#         part_dict = update_part_dict(part_dict, previous_test_df)\n",
    "        bundle_dict = update_bundle_dict(bundle_dict, previous_test_df)\n",
    "        \n",
    "\n",
    "        test_group, test_idx = feat5_group(previous_test_df)\n",
    "        rolling_gp = rolling_df_update(rolling_gp, test_group)\n",
    "        \n",
    "        test_roll_gp, test_roll_idx, name_dict = rolling_feat_group(previous_test_df, roll_keep)\n",
    "        whole_group_roll = rolling_df_update(whole_group_roll, test_roll_gp)\n",
    "    \n",
    "    current_test = current_test[current_test.content_type_id == 0].reset_index(drop = True)\n",
    "\n",
    "    current_test['answered_correctly'] = np.nan\n",
    "    current_test['user_answer'] = np.nan\n",
    "    \n",
    "    test_ds1 = test_user(current_test, user_dict)\n",
    "    test_ds2,state_dict = state_feature(current_test, state_dict)\n",
    "    test_ds3 = test_item(current_test, item_dict)\n",
    "    current_test[test_ds1.columns] = test_ds1\n",
    "    current_test[test_ds2.columns] = test_ds2\n",
    "    current_test[test_ds3.columns] = test_ds3\n",
    "    \n",
    "    test_content_emb_ds = initial_embedding_feature(current_test, content_emb_dict)\n",
    "    current_test[content_emb_cols] = pd.DataFrame(test_content_emb_ds, index = current_test.index)\n",
    "    \n",
    "    test_ds5, col_name = test_feats5_wrap(current_test, rolling_gp)\n",
    "    current_test[col_name] = pd.DataFrame(test_ds5, index = current_test.index)\n",
    "    \n",
    "    test_roll_ds, rolling_name = test_rolling_feature_wrapper(current_test, whole_group_roll, roll_keep)\n",
    "    current_test[rolling_name] = pd.DataFrame(test_roll_ds, index = current_test.index)\n",
    "\n",
    "    current_test['part'] = current_test['content_id'].map(map_part_dict)\n",
    "#     test_part_ds = test_part_feature(current_test, part_dict)\n",
    "#     current_test[part_name] = pd.DataFrame(test_part_ds, index = current_test.index)\n",
    "    \n",
    "    current_test['bundle'] = current_test['content_id'].map(map_bundle_dict)\n",
    "    test_bundle_ds = test_bundle_feature(current_test, bundle_dict)\n",
    "    current_test[bundle_name] = pd.DataFrame(test_bundle_ds, index = current_test.index)\n",
    "    \n",
    "    \n",
    "    test_gp, valid_idx, name_dict = rolling_feat_group(current_test, roll_keep)\n",
    "    test_last_group_ds = test_last_group_feature(test_gp, whole_group_roll, name_dict, \n",
    "                                                 valid_idx, item_answer_dict)\n",
    "    last_group_name = get_last_name()\n",
    "    current_test[last_group_name] = pd.DataFrame(test_last_group_ds, index=current_test.index)\n",
    "    \n",
    "    current_test['prior_question_elapsed_time'] = current_test.prior_question_elapsed_time.fillna(prior_question_elapsed_time_mean)\n",
    "    current_test['prior_question_had_explanation'] = current_test.prior_question_had_explanation.fillna(False).astype('int8')\n",
    "\n",
    "    current_test['answered_correctly'] = model.predict_proba(current_test[features])[:,1]\n",
    "#     features = model.feature_name()\n",
    "#     current_test['answered_correctly'] = model.predict(current_test[features])\n",
    "#     test_list.append(np.array(current_test['answered_correctly']))\n",
    "    env.predict(current_test.loc[current_test['content_type_id'] == 0, ['row_id', 'answered_correctly']])\n",
    "    previous_test_df = current_test.copy()\n",
    "#     break"
   ]
  }
 ],
 "metadata": {
  "kernelspec": {
   "display_name": "Python 3",
   "language": "python",
   "name": "python3"
  },
  "language_info": {
   "codemirror_mode": {
    "name": "ipython",
    "version": 3
   },
   "file_extension": ".py",
   "mimetype": "text/x-python",
   "name": "python",
   "nbconvert_exporter": "python",
   "pygments_lexer": "ipython3",
   "version": "3.7.6"
  },
  "papermill": {
   "duration": 687.231586,
   "end_time": "2020-12-27T10:48:28.244428",
   "environment_variables": {},
   "exception": null,
   "input_path": "__notebook__.ipynb",
   "output_path": "__notebook__.ipynb",
   "parameters": {},
   "start_time": "2020-12-27T10:37:01.012842",
   "version": "2.1.0"
  }
 },
 "nbformat": 4,
 "nbformat_minor": 4
}
